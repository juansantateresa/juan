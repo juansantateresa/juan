{
 "cells": [
  {
   "cell_type": "code",
   "execution_count": 1,
   "metadata": {},
   "outputs": [],
   "source": [
    "from sklearn import preprocessing\n",
    "import numpy as np\n",
    "import pandas as pd"
   ]
  },
  {
   "cell_type": "code",
   "execution_count": 12,
   "metadata": {},
   "outputs": [],
   "source": [
    "encoder = preprocessing.LabelEncoder()"
   ]
  },
  {
   "cell_type": "code",
   "execution_count": 3,
   "metadata": {},
   "outputs": [
    {
     "name": "stdout",
     "output_type": "stream",
     "text": [
      "gunzip: /Users/juansantateresagomez/Desktop/small_DS_exercises/juan/DS_review_exercises/archive.zip: unknown suffix -- ignored\r\n"
     ]
    }
   ],
   "source": [
    "! gunzip '/Users/juansantateresagomez/Desktop/small_DS_exercises/juan/DS_review_exercises/archive.zip'"
   ]
  },
  {
   "cell_type": "code",
   "execution_count": 7,
   "metadata": {},
   "outputs": [],
   "source": [
    "laptops = pd.read_csv('/Users/juansantateresagomez/Desktop/small_DS_exercises/juan/DS_review_exercises/laptops.csv', encoding = \"ISO-8859-1\")"
   ]
  },
  {
   "cell_type": "code",
   "execution_count": 8,
   "metadata": {},
   "outputs": [
    {
     "data": {
      "text/html": [
       "<div>\n",
       "<style scoped>\n",
       "    .dataframe tbody tr th:only-of-type {\n",
       "        vertical-align: middle;\n",
       "    }\n",
       "\n",
       "    .dataframe tbody tr th {\n",
       "        vertical-align: top;\n",
       "    }\n",
       "\n",
       "    .dataframe thead th {\n",
       "        text-align: right;\n",
       "    }\n",
       "</style>\n",
       "<table border=\"1\" class=\"dataframe\">\n",
       "  <thead>\n",
       "    <tr style=\"text-align: right;\">\n",
       "      <th></th>\n",
       "      <th>Unnamed: 0</th>\n",
       "      <th>Company</th>\n",
       "      <th>Product</th>\n",
       "      <th>TypeName</th>\n",
       "      <th>Inches</th>\n",
       "      <th>ScreenResolution</th>\n",
       "      <th>Cpu</th>\n",
       "      <th>Ram</th>\n",
       "      <th>Memory</th>\n",
       "      <th>Gpu</th>\n",
       "      <th>OpSys</th>\n",
       "      <th>Weight</th>\n",
       "      <th>Price_euros</th>\n",
       "    </tr>\n",
       "  </thead>\n",
       "  <tbody>\n",
       "    <tr>\n",
       "      <td>0</td>\n",
       "      <td>1</td>\n",
       "      <td>Apple</td>\n",
       "      <td>MacBook Pro</td>\n",
       "      <td>Ultrabook</td>\n",
       "      <td>13.3</td>\n",
       "      <td>IPS Panel Retina Display 2560x1600</td>\n",
       "      <td>Intel Core i5 2.3GHz</td>\n",
       "      <td>8GB</td>\n",
       "      <td>128GB SSD</td>\n",
       "      <td>Intel Iris Plus Graphics 640</td>\n",
       "      <td>macOS</td>\n",
       "      <td>1.37kg</td>\n",
       "      <td>1339.69</td>\n",
       "    </tr>\n",
       "    <tr>\n",
       "      <td>1</td>\n",
       "      <td>2</td>\n",
       "      <td>Apple</td>\n",
       "      <td>Macbook Air</td>\n",
       "      <td>Ultrabook</td>\n",
       "      <td>13.3</td>\n",
       "      <td>1440x900</td>\n",
       "      <td>Intel Core i5 1.8GHz</td>\n",
       "      <td>8GB</td>\n",
       "      <td>128GB Flash Storage</td>\n",
       "      <td>Intel HD Graphics 6000</td>\n",
       "      <td>macOS</td>\n",
       "      <td>1.34kg</td>\n",
       "      <td>898.94</td>\n",
       "    </tr>\n",
       "    <tr>\n",
       "      <td>2</td>\n",
       "      <td>3</td>\n",
       "      <td>HP</td>\n",
       "      <td>250 G6</td>\n",
       "      <td>Notebook</td>\n",
       "      <td>15.6</td>\n",
       "      <td>Full HD 1920x1080</td>\n",
       "      <td>Intel Core i5 7200U 2.5GHz</td>\n",
       "      <td>8GB</td>\n",
       "      <td>256GB SSD</td>\n",
       "      <td>Intel HD Graphics 620</td>\n",
       "      <td>No OS</td>\n",
       "      <td>1.86kg</td>\n",
       "      <td>575.00</td>\n",
       "    </tr>\n",
       "    <tr>\n",
       "      <td>3</td>\n",
       "      <td>4</td>\n",
       "      <td>Apple</td>\n",
       "      <td>MacBook Pro</td>\n",
       "      <td>Ultrabook</td>\n",
       "      <td>15.4</td>\n",
       "      <td>IPS Panel Retina Display 2880x1800</td>\n",
       "      <td>Intel Core i7 2.7GHz</td>\n",
       "      <td>16GB</td>\n",
       "      <td>512GB SSD</td>\n",
       "      <td>AMD Radeon Pro 455</td>\n",
       "      <td>macOS</td>\n",
       "      <td>1.83kg</td>\n",
       "      <td>2537.45</td>\n",
       "    </tr>\n",
       "    <tr>\n",
       "      <td>4</td>\n",
       "      <td>5</td>\n",
       "      <td>Apple</td>\n",
       "      <td>MacBook Pro</td>\n",
       "      <td>Ultrabook</td>\n",
       "      <td>13.3</td>\n",
       "      <td>IPS Panel Retina Display 2560x1600</td>\n",
       "      <td>Intel Core i5 3.1GHz</td>\n",
       "      <td>8GB</td>\n",
       "      <td>256GB SSD</td>\n",
       "      <td>Intel Iris Plus Graphics 650</td>\n",
       "      <td>macOS</td>\n",
       "      <td>1.37kg</td>\n",
       "      <td>1803.60</td>\n",
       "    </tr>\n",
       "  </tbody>\n",
       "</table>\n",
       "</div>"
      ],
      "text/plain": [
       "   Unnamed: 0 Company      Product   TypeName  Inches  \\\n",
       "0           1   Apple  MacBook Pro  Ultrabook    13.3   \n",
       "1           2   Apple  Macbook Air  Ultrabook    13.3   \n",
       "2           3      HP       250 G6   Notebook    15.6   \n",
       "3           4   Apple  MacBook Pro  Ultrabook    15.4   \n",
       "4           5   Apple  MacBook Pro  Ultrabook    13.3   \n",
       "\n",
       "                     ScreenResolution                         Cpu   Ram  \\\n",
       "0  IPS Panel Retina Display 2560x1600        Intel Core i5 2.3GHz   8GB   \n",
       "1                            1440x900        Intel Core i5 1.8GHz   8GB   \n",
       "2                   Full HD 1920x1080  Intel Core i5 7200U 2.5GHz   8GB   \n",
       "3  IPS Panel Retina Display 2880x1800        Intel Core i7 2.7GHz  16GB   \n",
       "4  IPS Panel Retina Display 2560x1600        Intel Core i5 3.1GHz   8GB   \n",
       "\n",
       "                Memory                           Gpu  OpSys  Weight  \\\n",
       "0            128GB SSD  Intel Iris Plus Graphics 640  macOS  1.37kg   \n",
       "1  128GB Flash Storage        Intel HD Graphics 6000  macOS  1.34kg   \n",
       "2            256GB SSD         Intel HD Graphics 620  No OS  1.86kg   \n",
       "3            512GB SSD            AMD Radeon Pro 455  macOS  1.83kg   \n",
       "4            256GB SSD  Intel Iris Plus Graphics 650  macOS  1.37kg   \n",
       "\n",
       "   Price_euros  \n",
       "0      1339.69  \n",
       "1       898.94  \n",
       "2       575.00  \n",
       "3      2537.45  \n",
       "4      1803.60  "
      ]
     },
     "execution_count": 8,
     "metadata": {},
     "output_type": "execute_result"
    }
   ],
   "source": [
    "laptops.head()"
   ]
  },
  {
   "cell_type": "code",
   "execution_count": 13,
   "metadata": {},
   "outputs": [],
   "source": [
    "new_vals = encoder.fit_transform(laptops['Company'])"
   ]
  },
  {
   "cell_type": "code",
   "execution_count": 19,
   "metadata": {},
   "outputs": [
    {
     "name": "stdout",
     "output_type": "stream",
     "text": [
      "[ 1  1  7  1  1  0  1  1  2  0  7  7  1  4  1  1  4  1 10  4  2 10  7  4\n",
      "  7  4  1  4  4  7  3  2  7  4  1 10  0  4  7  7  2  4  2  0  4  1 10  2\n",
      "  4  2 10  0  7  7  0  4  7  2 11  2  4  4 10  2  7  2  7  7 10  2 13  4\n",
      "  4 11  0  2 10  4  0  7  4  1  7 10  0  4  7  7  2  4  2  0  7  4  2  0\n",
      "  4  4  2  7  7  7  4  7 13  7 10  2 11 10  2  4 10  7  4  7  7  4  2  2\n",
      "  0 11 10  7  0  7  7  2  4  7  4  4  0  0  7  7 10  2 10  7  0 10 10 16\n",
      "  7  2  7  2 11  0  4  4 10 11  7  7 10  2  4 16  2  0  4 10  0 11  0  4\n",
      "  0  7  8  7 10 16  7  4  0 11 10  7  4  4 10 16 18  4  4 10  0  4 10 17\n",
      " 18 10  4  7 14  7  7  7  4 10  0 10  4 10  4  4  4 10  0  2  7 10  8  4\n",
      " 10  7  4  4  4 10 16  7  4  0  4  2  2  7  2  7 10  4  0  4  0  2  2  0\n",
      " 10  2  2  4 10  4  7  2  7  1  4  2  2 10  0  4  7  7 11 10  4 10  7  4\n",
      "  4  4  2 10  7 10  1  2  4 10 16  4  4  0 10 10 10  4 10 10  0  0 10  2\n",
      " 10 10  0  2  7  4 10 10  0  4 10  2  2  2 10 10  2 10  7 16 10  7 10  4\n",
      " 11  0  2  4  7 10  7  0  7 10  2  7  0 10  0  2  7  4 11 16  2 10  2  7\n",
      "  4  7  2  4  4 10  7 10  4 10  7  4  2  4  4  7 11  7 16  4 10  4  4  4\n",
      "  7  2 10  7 10  7  4 10  4  7  2  0  2 10  4  7 10  4  2  0  7 10  2 10\n",
      "  2 10 10  4  4 10  2  2  0 11  4  7 10 10  4 10 10  2 10  0 11  2 16  4\n",
      " 10 10 10 10  7  0  2  4  4  7  4 10 10  3  7  2  4  4  4  4  7 12 15 10\n",
      " 10 10 10  2  7  6 10  2 10  4 10 10  7  4  0  4 11 13  7  4  7 10  4  4\n",
      "  4 13 13  7  0  0  2 10 10  2  0  4  7 10  7  7  6  4  2  4  4 10  4 16\n",
      "  4  4  7  3 10 10  4  4 10  2 10 16  2  0  2 10 10  7 10 10  2  7 10 10\n",
      " 10 10  2  0  7 10  4  0  4  4 18  2  7  2  7  2 10  7  4  7  4 10 10 10\n",
      "  4  4  4 16  2 12  2  4  4  7  7 10  4  4  7  0  2  7 10 10  7 10 10  4\n",
      "  4  7  7  2 12 10  7  4  0 10  7 10  2  4  4  5 10 10  7  7  7 10 10 12\n",
      " 16 10 11  4 12  4  7  4  4 11  7 10 10  2  2 10  4 15 10 10 10 10  4  4\n",
      "  7  7  0 11  4 11 16 10 10  0 10  4  4  4  4  2  4  7 11  0  7 10  4  5\n",
      "  7 10 12 10  2  4  2  4 10 10  2  2  4 10 10  4 10  7 10  2  0 10  0 14\n",
      " 16 10  2  0  4 11  7 16  4  4 10  4  4 10 10  7 11 16  4  7 16  0 13 10\n",
      " 10 10  7 11  2  7  9  0 11  2  4  7 10  4  7  4  7 10  0 10  7 10 16  0\n",
      " 10  2 16  7  4 10 10 10 10  4  0 10 10  7 10  4  4  2  4 10  4 10 12  7\n",
      " 10  7 10  4 11 10  4  4  4  7  0  4  7  0 10 10  7  4 11  0  4  4 16 10\n",
      " 10  0 15  7  4  7 10  7  2 10  2 10  7  7  4  0 10  4  6  2  4  0  2  4\n",
      " 15  0  4 15 16  4  7  2 10  0 14  2  4  2 16 10 10 11 11 10  0  4  2 17\n",
      " 10 10  1 10  2  4 10  4  7  2  4  4  4  7 16  7  4 10  7 11 15  4  4 10\n",
      " 14  7  4  4 10 16 10 11 10 16  2  4  0  0 14 10  2 10 10  4  2 16 10  2\n",
      "  2  4  7  4  7  4  7  2  7  7  7  2  4 10  2  4  2  7  4 10 10  7 16 10\n",
      "  4  7 16 10  0  4 10 10 16 10 15  4  2 18  4  7  7  7  2 10  4  7  4  2\n",
      "  0 10  7  7 15 10 11 16  4  7  4  4  4  2  4 10 10  9  7  0 10  9  4  7\n",
      " 10  7  0 10  7 11  4 11  4  7  7 16 10  4 10  7  4  7 10  7  7 10 16  7\n",
      "  4 11  4  4  7  2  0 16 10 10  4 10  4  0  7  4 16  2 10  4  4  7  4  0\n",
      " 16 10  0 16  7  4  4  7  4 10  4  4  4 16  2  7 10  2  7  2  4 16 10  5\n",
      " 16  4  7 10  4  4  7  7 10 10  4  2  7  0  2  7  0  7  4  7 16  7  7  7\n",
      "  7  7  4  7  7  7  7 16  7 10 16  7  4 16  7  7  4  7  7  7  4  7  7  0\n",
      " 11  7  7  7  7 16  4  7 10 17 16 10  7  7  7 11 10  2 10  7  4  7  4  7\n",
      "  7  0  4 11  7  2  4  4 11  4  2  4  4  1  4  7  7  7 10 10 10 11 10  7\n",
      " 10 10 10  7  4  7  7 10  7  0  4  7  2  4  7  0  4 11  7  2  4  4  0  7\n",
      " 10  4 11 10  7  2  7  4 10  7 10  4 10 14 16  2 17  7  7  4  2 10 10  7\n",
      " 10  7  7 10  2  7  0 10  7  4 11  7 10 11  7  7  7  7  7  4  7 10 10  7\n",
      " 10  4  4  7 11 10 10  7 10 11  7 10  7  4 10 10  7 11  7  7  2 10 10  2\n",
      " 10 10 11  7 10 10  4  0  7  2  4  0  4  0 10 15  7  1  4  7 10  2  0 11\n",
      "  4 10  4  4  2  4  7 10  0  2  1  2 11  4  2  0  0 10 10  0 10 11  7  4\n",
      "  4  2  4  4 10 11 10 14  4 11  1  7  7  4 11 10 10  2  0  4  7  2  4  2\n",
      " 10  4  4  7 10 10  4  2  2  4 10 11 10  2  4  0  4 10  7  4  7  2 10 10\n",
      " 10  7  2  2  4  0  4 10  7  4  7  2 10 10 10  7  2  2  4  0  4 10  7  4\n",
      "  7  2 10 10 10  7  2]\n"
     ]
    }
   ],
   "source": [
    "import sys\n",
    "\n",
    "import numpy as np\n",
    "np.set_printoptions(threshold=sys.maxsize)\n",
    "print(new_vals)\n"
   ]
  },
  {
   "cell_type": "code",
   "execution_count": 20,
   "metadata": {},
   "outputs": [
    {
     "name": "stdout",
     "output_type": "stream",
     "text": [
      "   Unnamed: 0      Product   TypeName  Inches  \\\n",
      "0           1  MacBook Pro  Ultrabook    13.3   \n",
      "1           2  Macbook Air  Ultrabook    13.3   \n",
      "2           3       250 G6   Notebook    15.6   \n",
      "3           4  MacBook Pro  Ultrabook    15.4   \n",
      "4           5  MacBook Pro  Ultrabook    13.3   \n",
      "\n",
      "                     ScreenResolution                         Cpu   Ram  \\\n",
      "0  IPS Panel Retina Display 2560x1600        Intel Core i5 2.3GHz   8GB   \n",
      "1                            1440x900        Intel Core i5 1.8GHz   8GB   \n",
      "2                   Full HD 1920x1080  Intel Core i5 7200U 2.5GHz   8GB   \n",
      "3  IPS Panel Retina Display 2880x1800        Intel Core i7 2.7GHz  16GB   \n",
      "4  IPS Panel Retina Display 2560x1600        Intel Core i5 3.1GHz   8GB   \n",
      "\n",
      "                Memory                           Gpu  OpSys  ... Company_LG  \\\n",
      "0            128GB SSD  Intel Iris Plus Graphics 640  macOS  ...          0   \n",
      "1  128GB Flash Storage        Intel HD Graphics 6000  macOS  ...          0   \n",
      "2            256GB SSD         Intel HD Graphics 620  No OS  ...          0   \n",
      "3            512GB SSD            AMD Radeon Pro 455  macOS  ...          0   \n",
      "4            256GB SSD  Intel Iris Plus Graphics 650  macOS  ...          0   \n",
      "\n",
      "   Company_Lenovo  Company_MSI  Company_Mediacom  Company_Microsoft  \\\n",
      "0               0            0                 0                  0   \n",
      "1               0            0                 0                  0   \n",
      "2               0            0                 0                  0   \n",
      "3               0            0                 0                  0   \n",
      "4               0            0                 0                  0   \n",
      "\n",
      "   Company_Razer  Company_Samsung  Company_Toshiba  Company_Vero  \\\n",
      "0              0                0                0             0   \n",
      "1              0                0                0             0   \n",
      "2              0                0                0             0   \n",
      "3              0                0                0             0   \n",
      "4              0                0                0             0   \n",
      "\n",
      "   Company_Xiaomi  \n",
      "0               0  \n",
      "1               0  \n",
      "2               0  \n",
      "3               0  \n",
      "4               0  \n",
      "\n",
      "[5 rows x 31 columns]\n"
     ]
    }
   ],
   "source": [
    "# One-hot encode Company for laptops2\n",
    "laptops2 = pd.get_dummies(data=laptops, columns=['Company'])\n",
    "print(laptops2.head())"
   ]
  },
  {
   "cell_type": "code",
   "execution_count": 21,
   "metadata": {},
   "outputs": [],
   "source": [
    "import seaborn as sns"
   ]
  },
  {
   "cell_type": "code",
   "execution_count": 22,
   "metadata": {},
   "outputs": [
    {
     "name": "stdout",
     "output_type": "stream",
     "text": [
      "<class 'pandas.core.frame.DataFrame'>\n",
      "RangeIndex: 1303 entries, 0 to 1302\n",
      "Data columns (total 13 columns):\n",
      "Unnamed: 0          1303 non-null int64\n",
      "Company             1303 non-null object\n",
      "Product             1303 non-null object\n",
      "TypeName            1303 non-null object\n",
      "Inches              1303 non-null float64\n",
      "ScreenResolution    1303 non-null object\n",
      "Cpu                 1303 non-null object\n",
      "Ram                 1303 non-null object\n",
      "Memory              1303 non-null object\n",
      "Gpu                 1303 non-null object\n",
      "OpSys               1303 non-null object\n",
      "Weight              1303 non-null object\n",
      "Price_euros         1303 non-null float64\n",
      "dtypes: float64(2), int64(1), object(10)\n",
      "memory usage: 132.5+ KB\n"
     ]
    }
   ],
   "source": [
    "laptops.info()"
   ]
  },
  {
   "cell_type": "code",
   "execution_count": 23,
   "metadata": {},
   "outputs": [
    {
     "name": "stderr",
     "output_type": "stream",
     "text": [
      "/Users/juansantateresagomez/opt/anaconda3/lib/python3.7/site-packages/seaborn/_decorators.py:43: FutureWarning: Pass the following variable as a keyword arg: x. From version 0.12, the only valid positional argument will be `data`, and passing other arguments without an explicit keyword will result in an error or misinterpretation.\n",
      "  FutureWarning\n"
     ]
    },
    {
     "data": {
      "text/plain": [
       "<matplotlib.axes._subplots.AxesSubplot at 0x7fa6e2f35b50>"
      ]
     },
     "execution_count": 23,
     "metadata": {},
     "output_type": "execute_result"
    },
    {
     "data": {
      "image/png": "[encoded data removed]",
      "text/plain": [
       "<Figure size 432x288 with 1 Axes>"
      ]
     },
     "metadata": {
      "needs_background": "light"
     },
     "output_type": "display_data"
    }
   ],
   "source": [
    "sns.countplot(laptops['Company'])"
   ]
  },
  {
   "cell_type": "code",
   "execution_count": 24,
   "metadata": {},
   "outputs": [],
   "source": [
    "import pandas as pd"
   ]
  },
  {
   "cell_type": "code",
   "execution_count": 26,
   "metadata": {},
   "outputs": [],
   "source": [
    "laptops_certain = laptops.loc[laptops['Company'].isin(['Acer', 'Asus', 'Toshiba'])]"
   ]
  },
  {
   "cell_type": "code",
   "execution_count": 27,
   "metadata": {},
   "outputs": [
    {
     "name": "stderr",
     "output_type": "stream",
     "text": [
      "/Users/juansantateresagomez/opt/anaconda3/lib/python3.7/site-packages/seaborn/_decorators.py:43: FutureWarning: Pass the following variable as a keyword arg: x. From version 0.12, the only valid positional argument will be `data`, and passing other arguments without an explicit keyword will result in an error or misinterpretation.\n",
      "  FutureWarning\n"
     ]
    },
    {
     "data": {
      "text/plain": [
       "<matplotlib.axes._subplots.AxesSubplot at 0x7fa6e23024d0>"
      ]
     },
     "execution_count": 27,
     "metadata": {},
     "output_type": "execute_result"
    },
    {
     "data": {
      "image/png": "[encoded data removed]",
      "text/plain": [
       "<Figure size 432x288 with 1 Axes>"
      ]
     },
     "metadata": {
      "needs_background": "light"
     },
     "output_type": "display_data"
    }
   ],
   "source": [
    "sns.countplot(laptops_certain['Company'])"
   ]
  },
  {
   "cell_type": "code",
   "execution_count": 33,
   "metadata": {},
   "outputs": [
    {
     "data": {
      "image/png": "[encoded data removed]",
      "text/plain": [
       "<Figure size 432x288 with 1 Axes>"
      ]
     },
     "metadata": {
      "needs_background": "light"
     },
     "output_type": "display_data"
    }
   ],
   "source": [
    "import matplotlib.pyplot as plt\n",
    "\n",
    "laptops_certain.boxplot('Price_euros','Company', rot=30)\n",
    "plt.show()"
   ]
  },
  {
   "cell_type": "code",
   "execution_count": null,
   "metadata": {},
   "outputs": [],
   "source": []
  }
 ],
 "metadata": {
  "kernelspec": {
   "display_name": "Python 3",
   "language": "python",
   "name": "python3"
  },
  "language_info": {
   "codemirror_mode": {
    "name": "ipython",
    "version": 3
   },
   "file_extension": ".py",
   "mimetype": "text/x-python",
   "name": "python",
   "nbconvert_exporter": "python",
   "pygments_lexer": "ipython3",
   "version": "3.7.4"
  }
 },
 "nbformat": 4,
 "nbformat_minor": 2
}
