{
 "cells": [
  {
   "cell_type": "code",
   "execution_count": 1,
   "metadata": {},
   "outputs": [],
   "source": [
    "import pandas as pd\n",
    "import numpy as np\n",
    "import matplotlib.pyplot as plt"
   ]
  },
  {
   "cell_type": "code",
   "execution_count": 4,
   "metadata": {},
   "outputs": [],
   "source": [
    "from PIL import Image"
   ]
  },
  {
   "cell_type": "markdown",
   "metadata": {},
   "source": [
    "Generate a numpy array for testing "
   ]
  },
  {
   "cell_type": "code",
   "execution_count": 7,
   "metadata": {},
   "outputs": [],
   "source": [
    "test_data = np.random.beta(1, 1, size = (100, 100, 3))"
   ]
  },
  {
   "cell_type": "code",
   "execution_count": 9,
   "metadata": {},
   "outputs": [
    {
     "data": {
      "text/plain": [
       "array([[[0.08679525, 0.44244196, 0.9008444 ],\n",
       "        [0.32131858, 0.64447747, 0.26857291],\n",
       "        [0.6521494 , 0.23159054, 0.15443773],\n",
       "        ...,\n",
       "        [0.06614409, 0.83526193, 0.23310015],\n",
       "        [0.49919479, 0.92521586, 0.40200751],\n",
       "        [0.18376671, 0.98079174, 0.83641546]],\n",
       "\n",
       "       [[0.36746422, 0.24965291, 0.30047307],\n",
       "        [0.66267118, 0.84051307, 0.42592021],\n",
       "        [0.17213822, 0.9122948 , 0.28316504],\n",
       "        ...,\n",
       "        [0.89283446, 0.88369524, 0.73917919],\n",
       "        [0.19450895, 0.38242021, 0.54735706],\n",
       "        [0.76578569, 0.78497338, 0.80996131]],\n",
       "\n",
       "       [[0.51731482, 0.79629275, 0.40814307],\n",
       "        [0.89460195, 0.11408357, 0.9053259 ],\n",
       "        [0.06307578, 0.46781447, 0.48496623],\n",
       "        ...,\n",
       "        [0.72008968, 0.34661735, 0.3218416 ],\n",
       "        [0.02857545, 0.47440842, 0.48122975],\n",
       "        [0.7185509 , 0.88642762, 0.88180423]],\n",
       "\n",
       "       ...,\n",
       "\n",
       "       [[0.21812803, 0.95171033, 0.41083768],\n",
       "        [0.16363714, 0.097996  , 0.23003666],\n",
       "        [0.43645881, 0.8461292 , 0.70482622],\n",
       "        ...,\n",
       "        [0.59739053, 0.09809402, 0.82411367],\n",
       "        [0.89784463, 0.03334177, 0.75900144],\n",
       "        [0.48346923, 0.79884637, 0.01579379]],\n",
       "\n",
       "       [[0.29217864, 0.34550677, 0.10568256],\n",
       "        [0.4213935 , 0.57853201, 0.545249  ],\n",
       "        [0.15822468, 0.74665803, 0.56179017],\n",
       "        ...,\n",
       "        [0.70463568, 0.20202372, 0.3585373 ],\n",
       "        [0.12449842, 0.2284263 , 0.89679789],\n",
       "        [0.58978689, 0.74960057, 0.74388741]],\n",
       "\n",
       "       [[0.90948136, 0.21488053, 0.54638893],\n",
       "        [0.37677333, 0.55133439, 0.4457541 ],\n",
       "        [0.42340853, 0.35986881, 0.65647413],\n",
       "        ...,\n",
       "        [0.77982725, 0.27335756, 0.9861971 ],\n",
       "        [0.70108567, 0.18120884, 0.36287671],\n",
       "        [0.97498097, 0.06850948, 0.62074304]]])"
      ]
     },
     "execution_count": 9,
     "metadata": {},
     "output_type": "execute_result"
    }
   ],
   "source": [
    "test_data"
   ]
  },
  {
   "cell_type": "code",
   "execution_count": 10,
   "metadata": {},
   "outputs": [
    {
     "name": "stdout",
     "output_type": "stream",
     "text": [
      "unzip:  cannot find or open images.zip, images.zip.zip or images.zip.ZIP.\r\n"
     ]
    }
   ],
   "source": [
    "! unzip images.zip"
   ]
  },
  {
   "cell_type": "code",
   "execution_count": 11,
   "metadata": {},
   "outputs": [
    {
     "name": "stdout",
     "output_type": "stream",
     "text": [
      "Naïve Bees Image Loading and Processing.ipynb\r\n"
     ]
    }
   ],
   "source": [
    "! ls\n",
    "\n"
   ]
  },
  {
   "cell_type": "code",
   "execution_count": 12,
   "metadata": {},
   "outputs": [
    {
     "name": "stdout",
     "output_type": "stream",
     "text": [
      "/bin/sh: ll: command not found\r\n"
     ]
    }
   ],
   "source": [
    "! ll"
   ]
  },
  {
   "cell_type": "code",
   "execution_count": null,
   "metadata": {},
   "outputs": [],
   "source": []
  }
 ],
 "metadata": {
  "kernelspec": {
   "display_name": "Python 3",
   "language": "python",
   "name": "python3"
  },
  "language_info": {
   "codemirror_mode": {
    "name": "ipython",
    "version": 3
   },
   "file_extension": ".py",
   "mimetype": "text/x-python",
   "name": "python",
   "nbconvert_exporter": "python",
   "pygments_lexer": "ipython3",
   "version": "3.7.4"
  }
 },
 "nbformat": 4,
 "nbformat_minor": 2
}
